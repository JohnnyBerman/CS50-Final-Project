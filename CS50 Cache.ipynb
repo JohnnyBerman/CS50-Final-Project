{
 "cells": [
  {
   "cell_type": "code",
   "execution_count": 7,
   "metadata": {
    "collapsed": true
   },
   "outputs": [],
   "source": [
    "CACHE_SIZE = 2\n",
    "\n",
    "import sqlite3\n",
    "from heapq import nlargest"
   ]
  },
  {
   "cell_type": "code",
   "execution_count": 8,
   "metadata": {},
   "outputs": [],
   "source": [
    "conn = sqlite3.connect('/Users/jberman/Desktop/player_data.db')\n",
    "c = conn.cursor()\n",
    "requests = {\"a\": 1, \"b\": 0, \"c\": 17, \"d\": -69}"
   ]
  },
  {
   "cell_type": "code",
   "execution_count": 9,
   "metadata": {
    "collapsed": true
   },
   "outputs": [],
   "source": [
    "def make_request(request):\n",
    "    return c.execute(request)"
   ]
  },
  {
   "cell_type": "markdown",
   "metadata": {},
   "source": [
    "# Generate the cache the first time"
   ]
  },
  {
   "cell_type": "code",
   "execution_count": 11,
   "metadata": {},
   "outputs": [],
   "source": [
    "# If a cache hasn't been made before make it the first time\n",
    "def make_cache():\n",
    "    return {i:make_request(i) for i in nlargest(CACHE_SIZE, requests, key=lambda x:requests[x])}\n",
    "    #https://stackoverflow.com/questions/4215472/python-take-max-n-elements-from-some-list\n",
    "    \n",
    "cache = make_cache()"
   ]
  },
  {
   "cell_type": "markdown",
   "metadata": {},
   "source": [
    "# Update the cache"
   ]
  },
  {
   "cell_type": "code",
   "execution_count": 54,
   "metadata": {},
   "outputs": [],
   "source": [
    "# Update the cache after a request has been made\n",
    "def update_cache(request):\n",
    "    requests[request] = requests.get(request, 0) + 1\n",
    "    \n",
    "    # The key for the smallest number of requests out of all items in the cach\n",
    "    minimum_cache = nlargest(CACHE_SIZE, requests, key = lambda x: requests[x] if x in cache else -1)[-1]\n",
    "    \n",
    "    # Replace the least requested cache item if the latest request has been requested more often\n",
    "    if requests[request] > requests[minimum_cache]:\n",
    "        cache.pop(minimum_cache)\n",
    "        cache[request] = make_request(request)"
   ]
  }
 ],
 "metadata": {
  "kernelspec": {
   "display_name": "Python 3",
   "language": "python",
   "name": "python3"
  },
  "language_info": {
   "codemirror_mode": {
    "name": "ipython",
    "version": 3
   },
   "file_extension": ".py",
   "mimetype": "text/x-python",
   "name": "python",
   "nbconvert_exporter": "python",
   "pygments_lexer": "ipython3",
   "version": "3.6.2"
  }
 },
 "nbformat": 4,
 "nbformat_minor": 2
}
